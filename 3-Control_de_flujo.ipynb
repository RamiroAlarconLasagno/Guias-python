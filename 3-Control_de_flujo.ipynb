{
 "cells": [
  {
   "cell_type": "markdown",
   "metadata": {},
   "source": [
    "# If\n",
    "Es una sentencia que literalmente se conoce como \"SI\" pero que significaria \"Y que tal si?\"\n",
    "Suele estar sucedida por un comparativo.\n",
    "\n",
    "A tener en cuenta: \n",
    "<center> \n",
    "    if (comparador) :\n",
    "</center>\n",
    "<ul>\n",
    "    <li>No se deben de olvidar los dos puntos, a diferencia de C y C++ no necesita comillas pero debe de <b>respetarse la tabulacion</b> del siguiente renglon.</li> \n",
    "    <li>Al borrar la tabulacion se sale automaticamente del <b>if</b>.</li>\n",
    "    <li> <b>elif:</b> es una combinacion entre <b>else</b>  e <b>if</b>, es una continuacion del if.</li>\n",
    "    <li> <b>else:</b> se coloca al final y se toma como la opcion descartada.</li>\n",
    "    <li> Debes asegurarte que el argumento de entrada sea del tipo que debe comparar en este caso <b>int</b>.</li>\n",
    "</ul>"
   ]
  },
  {
   "cell_type": "code",
   "execution_count": 1,
   "metadata": {},
   "outputs": [
    {
     "name": "stdout",
     "output_type": "stream",
     "text": [
      "Verificacion de acceso\n",
      "Introduce tu edad por fabor: 50\n",
      "Puede pasar\n",
      "El programa ha finalizado\n"
     ]
    }
   ],
   "source": [
    "print(\"Verificacion de acceso\")\n",
    "\n",
    "EdadUsuario=int(input(\"Introduce tu edad por fabor: \"))\n",
    "\n",
    "if EdadUsuario<18:\n",
    "    print(\"No puede pasar\")\n",
    "elif EdadUsuario>100:\n",
    "    print(\"Edad incorrecta\")\n",
    "else:\n",
    "    print(\"Puede pasar\")\n",
    "print(\"El programa ha finalizado\")"
   ]
  },
  {
   "cell_type": "code",
   "execution_count": 2,
   "metadata": {},
   "outputs": [
    {
     "name": "stdout",
     "output_type": "stream",
     "text": [
      "5 20\n"
     ]
    }
   ],
   "source": [
    "x,y=5,20\n",
    "print(x, y)"
   ]
  },
  {
   "cell_type": "code",
   "execution_count": 3,
   "metadata": {},
   "outputs": [
    {
     "name": "stdout",
     "output_type": "stream",
     "text": [
      "x y y son diferentes\n",
      "x es menor que y\n"
     ]
    }
   ],
   "source": [
    "if x!=y:\n",
    "    print('x y y son diferentes')\n",
    "    if x<y:\n",
    "        print('x es menor que y')\n",
    "    else:\n",
    "        print('x es igual o mayor que y')\n",
    "else:\n",
    "    print('x es igual a y')"
   ]
  },
  {
   "cell_type": "markdown",
   "metadata": {},
   "source": [
    "# For"
   ]
  },
  {
   "cell_type": "markdown",
   "metadata": {},
   "source": [
    "Antes de explicar la sentencia for, vamos a explicar la sentencia <b>range()</b><br>\n",
    "range en Python es un tipo que se utiliza para representar una secuencia inmutable de números. Uno de sus principales usos es junto a la sentencia <b>for</b>, para definir un bucle sobre el que se itera un número determinado de veces.\n",
    "<center> range(start, stop, step) -> range object </center>\n",
    "Devuelve un objeto que produce una secuencia de enteros desde el inicio (inclusive)\n",
    "Parar (exclusivo) por paso. Rango (i, j) produce i, i + 1, i + 2, ..., j-1.\n",
    "Start tiene un valor predeterminado de 0 y se omite la parada. Range (4) produce 0, 1, 2, 3.\n",
    "Estos son exactamente los índices válidos para una lista de 4 elementos.\n",
    "Cuando se da paso, especifica el incremento (o decremento).<br>\n",
    "Ante la duda help(range)"
   ]
  },
  {
   "cell_type": "code",
   "execution_count": 4,
   "metadata": {},
   "outputs": [
    {
     "name": "stdout",
     "output_type": "stream",
     "text": [
      "3\n",
      "6\n",
      "9\n",
      "12\n"
     ]
    }
   ],
   "source": [
    "x = range(3,15,3)\n",
    "for i in x:\n",
    "    print(i)"
   ]
  },
  {
   "cell_type": "code",
   "execution_count": 5,
   "metadata": {},
   "outputs": [
    {
     "name": "stdout",
     "output_type": "stream",
     "text": [
      "0\n",
      "1\n",
      "2\n"
     ]
    }
   ],
   "source": [
    "# Puede escribirse todo junto\n",
    "for x in range(3):\n",
    "    print (x)"
   ]
  },
  {
   "cell_type": "code",
   "execution_count": 6,
   "metadata": {},
   "outputs": [
    {
     "name": "stdout",
     "output_type": "stream",
     "text": [
      "0 1 2 3 4 5 6 \n",
      "1 2 3 4 5 6 7 \n",
      "10 15 20 25 30 35 40 45 \n",
      "0 -1 -2 -3 -4 -5 -6 -7 -8 -9 "
     ]
    }
   ],
   "source": [
    "for num in range(7): print(num, end=(' ')) # recorre de 0 a 6\n",
    "print()  \n",
    "for num in range(1,8): print(num, end=(' '))  # recorre de 1 a 7\n",
    "print()\n",
    "for num in range(10,50,5): print(num, end=(' ')) # de 10 a 45 de 5 en 5\n",
    "print()\n",
    "for num in range(0,-10,-1): print(num, end=(' '))  # de 0 a -9 de -1 en -1"
   ]
  },
  {
   "cell_type": "markdown",
   "metadata": {},
   "source": [
    "#### La instrucción for en Python tiene la capacidad de iterar sobre los elementos de cualquier secuencia, como una lista o una cadena.\n",
    "<center>for variable_iterable in secuencia:<br>\n",
    "   --->declaracion(es) </center>\n",
    "   \n",
    "### No te olvides de los dos puntos\n",
    "Para trabajar dentro del for se debe de usar la tecla tab para trabajar un salto de linea adelante, para salir volver al salto anterior.\n",
    "Seguidamente voy a mostrar varios ejemplos de for:"
   ]
  },
  {
   "cell_type": "code",
   "execution_count": 7,
   "metadata": {},
   "outputs": [
    {
     "name": "stdout",
     "output_type": "stream",
     "text": [
      "Letra:  p\n",
      "Letra:  y\n",
      "Letra:  t\n",
      "Letra:  h\n",
      "Letra:  o\n",
      "Letra:  n\n"
     ]
    }
   ],
   "source": [
    "for var in 'python':\n",
    "    print(\"Letra: \",var)"
   ]
  },
  {
   "cell_type": "code",
   "execution_count": 8,
   "metadata": {},
   "outputs": [
    {
     "name": "stdout",
     "output_type": "stream",
     "text": [
      "Cosa que se me ocurrio numero  1 : perro\n",
      "Cosa que se me ocurrio numero  2 : gato\n",
      "Cosa que se me ocurrio numero  3 : mandarina\n",
      "Cosa que se me ocurrio numero  4 : tijuana06\n",
      "Cosa que se me ocurrio numero  5 : h654\n"
     ]
    }
   ],
   "source": [
    "n=0\n",
    "lista_rara = ['perro', 'gato', 'mandarina', 'tijuana06', 'h654']\n",
    "for loquesea in lista_rara:\n",
    "    n+=1\n",
    "    print('Cosa que se me ocurrio numero ', n, \":\", loquesea)"
   ]
  },
  {
   "cell_type": "markdown",
   "metadata": {},
   "source": [
    "##### Range:\n",
    "En Python, los bucles “for” y “while” pueden utilizar la sentencia “if” y \"else\" para poder romper el siclo con la sentencia  “break“."
   ]
  },
  {
   "cell_type": "code",
   "execution_count": 9,
   "metadata": {},
   "outputs": [
    {
     "name": "stdout",
     "output_type": "stream",
     "text": [
      "0\n",
      "1\n",
      "2\n"
     ]
    }
   ],
   "source": [
    "for var in range(10):\n",
    "    if var==3:\n",
    "        break\n",
    "    else:\n",
    "        print(var)"
   ]
  },
  {
   "cell_type": "markdown",
   "metadata": {},
   "source": [
    "El lenguaje de programación Python permite el uso de un ciclo dentro de otro ciclo. La siguiente sección muestra algunos ejemplos para ilustrar el concepto."
   ]
  },
  {
   "cell_type": "code",
   "execution_count": 10,
   "metadata": {},
   "outputs": [
    {
     "name": "stdout",
     "output_type": "stream",
     "text": [
      "1 2 3 4 5 6 7 8 9 \n",
      "2 4 6 8 10 12 14 16 18 \n",
      "3 6 9 12 15 18 21 24 27 \n",
      "4 8 12 16 20 24 28 32 36 \n",
      "5 10 15 20 25 30 35 40 45 \n",
      "6 12 18 24 30 36 42 48 54 \n",
      "7 14 21 28 35 42 49 56 63 \n",
      "8 16 24 32 40 48 56 64 72 \n",
      "9 18 27 36 45 54 63 72 81 \n"
     ]
    }
   ],
   "source": [
    "# Programa que muestra todas las tablas de multiplicar del 1 al 9\n",
    "for i in range(1,10):\n",
    "    for j in range(1,10):\n",
    "        k = i*j\n",
    "        print (k, end=' ') # el end es para que no termine en salto de linea y si termine en espacio.\n",
    "    print()"
   ]
  },
  {
   "cell_type": "code",
   "execution_count": 11,
   "metadata": {},
   "outputs": [
    {
     "name": "stdout",
     "output_type": "stream",
     "text": [
      "\n",
      "1 \n",
      "1 2 \n",
      "1 2 6 \n",
      "1 2 6 24 \n",
      "1 2 6 24 120 \n",
      "1 2 6 24 120 720 \n",
      "1 2 6 24 120 720 5040 \n",
      "1 2 6 24 120 720 5040 40320 \n"
     ]
    }
   ],
   "source": [
    "# Programa que muestra el valor factorial de los numeros del 1 al 9\n",
    "#1\n",
    "#1 2\n",
    "#1 2 6\n",
    "#1 2 6 24 \n",
    "#1 2 6 24 120\n",
    "#====================================================\n",
    "for i in range(1,10):\n",
    "    val = 1\n",
    "    for j in range(1,i):\n",
    "        val=val*j\n",
    "        print(val, end = \" \")\n",
    "    print()"
   ]
  },
  {
   "cell_type": "markdown",
   "metadata": {},
   "source": [
    "##### enumerate:\n",
    "Toma una lista o vector de valores y devuelve la posicion y el valor de ese vector."
   ]
  },
  {
   "cell_type": "code",
   "execution_count": 12,
   "metadata": {},
   "outputs": [
    {
     "name": "stdout",
     "output_type": "stream",
     "text": [
      "Numero:  0  Letra:  E\n",
      "Numero:  1  Letra:  n\n",
      "Numero:  2  Letra:  u\n",
      "Numero:  3  Letra:  m\n",
      "Numero:  4  Letra:  e\n",
      "Numero:  5  Letra:  r\n",
      "Numero:  6  Letra:  a\n",
      "Numero:  7  Letra:  m\n",
      "Numero:  8  Letra:  e\n",
      "Numero:  9  Letra:   \n",
      "Numero:  10  Letra:  l\n",
      "Numero:  11  Letra:  a\n",
      "Numero:  12  Letra:  s\n",
      "Numero:  13  Letra:   \n",
      "Numero:  14  Letra:  l\n",
      "Numero:  15  Letra:  e\n",
      "Numero:  16  Letra:  t\n",
      "Numero:  17  Letra:  r\n",
      "Numero:  18  Letra:  a\n",
      "Numero:  19  Letra:  s\n"
     ]
    }
   ],
   "source": [
    "Palabra = 'Enumerame las letras'\n",
    "\n",
    "for item, valor in enumerate(Palabra):\n",
    "    print('Numero: ', item, ' Letra: ', valor)"
   ]
  },
  {
   "cell_type": "markdown",
   "metadata": {},
   "source": [
    "# Switch\n",
    "La forma de Python de implementar la instrucción switch es utilizar las asignaciones de <b>diccionarios</b>, también conocidas como matrices asociativas (A ver mas tarde), que proporcionan asignaciones simples de clave-valor de uno a uno.\n",
    "\n",
    "Aquí esta la implementación de Python de la declaración anterior. En el siguiente ejemplo, creamos un diccionario llamado switcher para almacenar todos los casos del tipo switch\n",
    "\n",
    "#### Debes asegurarte que el argumento de entrada sea del tipo que debe comparar en este caso <b>int</b> (Cosa importante)."
   ]
  },
  {
   "cell_type": "code",
   "execution_count": 13,
   "metadata": {},
   "outputs": [
    {
     "name": "stdout",
     "output_type": "stream",
     "text": [
      "Introduce un numero del 1 al 12: 6\n",
      "Junio\n"
     ]
    }
   ],
   "source": [
    "Argumento = int(input(\"Introduce un numero del 1 al 12: \"))\n",
    "meses = {\n",
    "    1: \"Enero\",\n",
    "    2: \"Febrero\",\n",
    "    3: \"Marzo\",\n",
    "    4: \"Abril\",\n",
    "    5: \"Mayo\",\n",
    "    6: \"Junio\",\n",
    "    7: \"Julio\",\n",
    "    8: \"Augosto\",\n",
    "    9: \"Septiembre\",\n",
    "    10: \"Octubre\",\n",
    "    11: \"Noviembre\",\n",
    "    12: \"Deciembre\"\n",
    "}\n",
    "print(meses.get(Argumento, 'Mes invalido'))"
   ]
  },
  {
   "cell_type": "markdown",
   "metadata": {},
   "source": [
    "# While\n",
    "Una declaración de bucle while en el lenguaje de programación Python ejecuta repetidamente una declaración de destino siempre que una condición determinada sea verdadera.<br>\n",
    "<center> while expression:<br>\n",
    "       --->statement(s)</center>\n",
    "Aquí, los enunciados pueden ser un solo enunciado o un bloque de enunciados con sangría uniforme. La condición puede ser cualquier expresión y verdadero es cualquier valor distinto de cero. El bucle se repite mientras la condición es verdadera.<br>\n",
    "\n",
    "Cuando la condición se vuelve falsa, el control del programa pasa a la línea inmediatamente siguiente al ciclo.\n",
    "#### No te olvides los dos puntos y la tabulacion."
   ]
  },
  {
   "cell_type": "code",
   "execution_count": 14,
   "metadata": {},
   "outputs": [
    {
     "name": "stdout",
     "output_type": "stream",
     "text": [
      "El contador es: 0\n",
      "El contador es: 1\n",
      "El contador es: 2\n",
      "El contador es: 3\n",
      "El contador es: 4\n",
      "Fin!\n"
     ]
    }
   ],
   "source": [
    "cont = 0\n",
    "while (cont < 5):\n",
    "   print ('El contador es:', cont)\n",
    "   cont += 1\n",
    "    \n",
    "print (\"Fin!\")"
   ]
  },
  {
   "cell_type": "markdown",
   "metadata": {},
   "source": [
    "#### while es muy popular para generar recursividades infinitas, por eso es muy recomendable generar una forma de salir de estos.\n",
    "El uso de if, else y break es usado especialmente porque no existe en python la sentencia do-while."
   ]
  },
  {
   "cell_type": "code",
   "execution_count": 15,
   "metadata": {},
   "outputs": [
    {
     "name": "stdout",
     "output_type": "stream",
     "text": [
      "Termino en :  17\n"
     ]
    }
   ],
   "source": [
    "import random #libreria random\n",
    "import time   #libreria tiempo\n",
    "\n",
    "var = 1\n",
    "while var == 1 :  # Este es una forma de hacer un lup infinito\n",
    "    n = random.randrange(1000) # genero un valor aleatorio de entre 0 y 999 en cada loop\n",
    "    time.sleep(0.1) # espera por 100 milisegundos\n",
    "    print (n, end ='\\r') # La \\r deberia de reemplazar el valor \n",
    "#---------------------------------------------------------------------------------    \n",
    "    if n< 100 :#si apretas la letra \"q\" del teclado se detiene el loop\n",
    "        break\n",
    "#---------------------------------------------------------------------------------\n",
    "print (\"Termino en : \", n)"
   ]
  },
  {
   "cell_type": "code",
   "execution_count": null,
   "metadata": {},
   "outputs": [],
   "source": []
  }
 ],
 "metadata": {
  "kernelspec": {
   "display_name": "Python 3",
   "language": "python",
   "name": "python3"
  },
  "language_info": {
   "codemirror_mode": {
    "name": "ipython",
    "version": 3
   },
   "file_extension": ".py",
   "mimetype": "text/x-python",
   "name": "python",
   "nbconvert_exporter": "python",
   "pygments_lexer": "ipython3",
   "version": "3.8.3"
  }
 },
 "nbformat": 4,
 "nbformat_minor": 4
}
