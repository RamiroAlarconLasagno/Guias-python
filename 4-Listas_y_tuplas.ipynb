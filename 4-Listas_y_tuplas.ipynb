{
 "cells": [
  {
   "cell_type": "markdown",
   "metadata": {},
   "source": [
    "# Listas, tuplas\n",
    "#### Las listas y las tuplas son espacios de memoria consecutivos asociados a una misma variable muy utilizadas para manejo de grandes cantidades de datos y permite el acceso a una parte determinada de su información utilizando índices.\n",
    "####  El primer elemento de una lista o de una tupla ocupa la posición 0.\n",
    "\n",
    "\n",
    "#### Indice:"
   ]
  },
  {
   "cell_type": "markdown",
   "metadata": {},
   "source": [
    "# Generamos listas y tuplas"
   ]
  },
  {
   "cell_type": "markdown",
   "metadata": {},
   "source": [
    "## Lista\n",
    "Una lista es una estructura de datos que contiene una colección o secuencia de datos. \n",
    "Los datos o elementos de una lista deben ir separados con una coma y todo el conjunto entre corchetes. \n",
    "Se dice que una lista es una estructura mutable porque además de permitir el acceso a los elementos, pueden suprimirse o agregarse nuevos."
   ]
  },
  {
   "cell_type": "code",
   "execution_count": 1,
   "metadata": {},
   "outputs": [
    {
     "name": "stdout",
     "output_type": "stream",
     "text": [
      "[]\n"
     ]
    }
   ],
   "source": [
    "Lista_Vacia = []\n",
    "\n",
    "print(Lista_Vacia)"
   ]
  },
  {
   "cell_type": "code",
   "execution_count": 2,
   "metadata": {},
   "outputs": [
    {
     "name": "stdout",
     "output_type": "stream",
     "text": [
      "['Dato1', 'Dato2', 'Dato3', 'Dato4', 'etc...']\n"
     ]
    }
   ],
   "source": [
    "NombreLista = [\"Dato1\", \"Dato2\", \"Dato3\", \"Dato4\" , \"etc...\"]  # Declara Lista\n",
    "\n",
    "print(NombreLista)"
   ]
  },
  {
   "cell_type": "code",
   "execution_count": 3,
   "metadata": {},
   "outputs": [
    {
     "name": "stdout",
     "output_type": "stream",
     "text": [
      "['Ramiro', '13', 'octubre', '1987', '70kg']\n"
     ]
    }
   ],
   "source": [
    "Datos_Persona = [\"Ramiro\", \"13\", \"octubre\", \"1987\", \"70kg\"]\n",
    "\n",
    "print(Datos_Persona)"
   ]
  },
  {
   "cell_type": "code",
   "execution_count": 4,
   "metadata": {},
   "outputs": [
    {
     "name": "stdout",
     "output_type": "stream",
     "text": [
      "Dato:  perro  del tipo:  <class 'str'>\n",
      "Dato:  23  del tipo:  <class 'int'>\n",
      "Dato:  1.5  del tipo:  <class 'float'>\n",
      "Dato:  (3, 5)  del tipo:  <class 'tuple'>\n",
      "Dato:  [56, 'casa']  del tipo:  <class 'list'>\n"
     ]
    }
   ],
   "source": [
    "Cualquier_Dato = [\"perro\", 23, 1.5, (3, 5), [56, 'casa']]\n",
    "\n",
    "print(\"Dato: \", Cualquier_Dato[0] ,\" del tipo: \",  type(Cualquier_Dato[0]))\n",
    "print(\"Dato: \", Cualquier_Dato[1] ,\" del tipo: \",  type(Cualquier_Dato[1]))\n",
    "print(\"Dato: \", Cualquier_Dato[2] ,\" del tipo: \",  type(Cualquier_Dato[2]))\n",
    "print(\"Dato: \", Cualquier_Dato[3] ,\" del tipo: \",  type(Cualquier_Dato[3]))\n",
    "print(\"Dato: \", Cualquier_Dato[4] ,\" del tipo: \",  type(Cualquier_Dato[4]))"
   ]
  },
  {
   "cell_type": "markdown",
   "metadata": {},
   "source": [
    "## Tupla\n",
    "Una tupla permite tener agrupados un <b>conjunto inmutable</b> de elementos, es decir, en una tupla <b>no es posible agregar ni eliminar elementos</b>. Las tuplas se declaran separando los elementos por comas y éstos, opcionalmente, pueden ir entre paréntesis. Se recomienda el uso de paréntesis para evitar ambigüedades del tipo: print(9, 8, 7) y print((9, 8, 7))."
   ]
  },
  {
   "cell_type": "code",
   "execution_count": 5,
   "metadata": {},
   "outputs": [
    {
     "name": "stdout",
     "output_type": "stream",
     "text": [
      "()\n"
     ]
    }
   ],
   "source": [
    "Tupla_Vacia = ()\n",
    "\n",
    "print(Tupla_Vacia) # Desconosco su aplicacion."
   ]
  },
  {
   "cell_type": "code",
   "execution_count": 6,
   "metadata": {},
   "outputs": [
    {
     "name": "stdout",
     "output_type": "stream",
     "text": [
      "('Dato1', 'Dato2', 'Dato3', 'Dato4', 'etc...')\n"
     ]
    }
   ],
   "source": [
    "NombreTupla = (\"Dato1\", \"Dato2\", \"Dato3\", \"Dato4\" , \"etc...\")  # Declara Tupla\n",
    "\n",
    "print(NombreTupla)"
   ]
  },
  {
   "cell_type": "code",
   "execution_count": 7,
   "metadata": {},
   "outputs": [
    {
     "name": "stdout",
     "output_type": "stream",
     "text": [
      "('Ramiro', '13', 'octubre', '1987', '70kg')\n"
     ]
    }
   ],
   "source": [
    "Datos_Persona = (\"Ramiro\", \"13\", \"octubre\", \"1987\", \"70kg\")\n",
    "\n",
    "print(Datos_Persona)"
   ]
  },
  {
   "cell_type": "markdown",
   "metadata": {},
   "source": [
    "Notamos que el acceso tambien es con corchetes como en las listas."
   ]
  },
  {
   "cell_type": "code",
   "execution_count": 8,
   "metadata": {},
   "outputs": [
    {
     "name": "stdout",
     "output_type": "stream",
     "text": [
      "Dato:  perro  del tipo:  <class 'str'>\n",
      "Dato:  23  del tipo:  <class 'int'>\n",
      "Dato:  1.5  del tipo:  <class 'float'>\n",
      "Dato:  (3, 5)  del tipo:  <class 'tuple'>\n",
      "Dato:  [56, 'casa']  del tipo:  <class 'list'>\n"
     ]
    }
   ],
   "source": [
    "Cualquier_Dato = (\"perro\", 23, 1.5, (3, 5), [56, 'casa'])\n",
    "\n",
    "print(\"Dato: \", Cualquier_Dato[0] ,\" del tipo: \",  type(Cualquier_Dato[0]))\n",
    "print(\"Dato: \", Cualquier_Dato[1] ,\" del tipo: \",  type(Cualquier_Dato[1]))\n",
    "print(\"Dato: \", Cualquier_Dato[2] ,\" del tipo: \",  type(Cualquier_Dato[2]))\n",
    "print(\"Dato: \", Cualquier_Dato[3] ,\" del tipo: \",  type(Cualquier_Dato[3]))\n",
    "print(\"Dato: \", Cualquier_Dato[4] ,\" del tipo: \",  type(Cualquier_Dato[4]))"
   ]
  },
  {
   "cell_type": "markdown",
   "metadata": {},
   "source": [
    "# Funciones \n",
    "## Funciones para listas y tuplas\n",
    "Las siguientes funciones son comunes tanto para listas como para tuplas."
   ]
  },
  {
   "cell_type": "markdown",
   "metadata": {},
   "source": [
    "### De busqueda"
   ]
  },
  {
   "cell_type": "markdown",
   "metadata": {},
   "source": [
    "##### in\n",
    "In devuelve True si el valor buscado se encuentra dentro del la lista."
   ]
  },
  {
   "cell_type": "code",
   "execution_count": 9,
   "metadata": {},
   "outputs": [
    {
     "data": {
      "text/plain": [
       "True"
      ]
     },
     "execution_count": 9,
     "metadata": {},
     "output_type": "execute_result"
    }
   ],
   "source": [
    "Datos_Persona = [\"Ramiro\", \"13\", \"octubre\", \"1987\", \"70kg\"]\n",
    "\n",
    "\"13\" in Datos_Persona"
   ]
  },
  {
   "cell_type": "code",
   "execution_count": 10,
   "metadata": {},
   "outputs": [
    {
     "data": {
      "text/plain": [
       "True"
      ]
     },
     "execution_count": 10,
     "metadata": {},
     "output_type": "execute_result"
    }
   ],
   "source": [
    "Datos_Persona = (\"Ramiro\", \"13\", \"octubre\", \"1987\", \"70kg\")\n",
    "\n",
    "\"octubre\" in Datos_Persona"
   ]
  },
  {
   "cell_type": "markdown",
   "metadata": {},
   "source": [
    "Cuidar que sea se busque el mismo tipo que el contenido en la lista."
   ]
  },
  {
   "cell_type": "code",
   "execution_count": 11,
   "metadata": {},
   "outputs": [
    {
     "data": {
      "text/plain": [
       "False"
      ]
     },
     "execution_count": 11,
     "metadata": {},
     "output_type": "execute_result"
    }
   ],
   "source": [
    "Datos_Persona = [\"Ramiro\", 13, \"octubre\", \"1987\", \"70kg\"] # Ahora el 13 es tipo int\n",
    "\n",
    "\"13\" in Datos_Persona"
   ]
  },
  {
   "cell_type": "markdown",
   "metadata": {},
   "source": [
    "##### index()\n",
    "En el caso que querramos buscar un dato especifico y que nos devuelva la hubicacion en la lista index() devuelve la hubicacion del primer valor que encuentra."
   ]
  },
  {
   "cell_type": "code",
   "execution_count": 12,
   "metadata": {},
   "outputs": [
    {
     "data": {
      "text/plain": [
       "1"
      ]
     },
     "execution_count": 12,
     "metadata": {},
     "output_type": "execute_result"
    }
   ],
   "source": [
    "Datos_Persona = (\"Ramiro\", \"13\", \"octubre\", \"1987\", \"13\" ,\"70kg\")\n",
    "\n",
    "Datos_Persona.index('13')"
   ]
  },
  {
   "cell_type": "markdown",
   "metadata": {},
   "source": [
    "## De medida"
   ]
  },
  {
   "cell_type": "markdown",
   "metadata": {},
   "source": [
    "##### count()\n",
    "count() cuenta la cantidad de veces que aparece un valor en una lista o tupla. Funciona para todos los tipos de datos."
   ]
  },
  {
   "cell_type": "code",
   "execution_count": 13,
   "metadata": {},
   "outputs": [
    {
     "name": "stdout",
     "output_type": "stream",
     "text": [
      "El numero 8 aparece:  5  veces\n"
     ]
    }
   ],
   "source": [
    "ListaNumeros = [5,8,6,8,5,4,2,6,5,8,9,6,5,4,5,6,8,1,2,3,1,8,9,5,2,4,3]\n",
    "\n",
    "cuenta = ListaNumeros.count(8)\n",
    "\n",
    "print (\"El numero 8 aparece: \", cuenta, \" veces\")"
   ]
  },
  {
   "cell_type": "code",
   "execution_count": 14,
   "metadata": {},
   "outputs": [
    {
     "name": "stdout",
     "output_type": "stream",
     "text": [
      "El numero 5 aparece:  6  veces\n"
     ]
    }
   ],
   "source": [
    "TuplaNumeros = (5,8,6,8,5,4,2,6,5,8,9,6,5,4,5,6,8,1,2,3,1,8,9,5,2,4,3)\n",
    "\n",
    "cuenta = TuplaNumeros.count(5)\n",
    "\n",
    "print (\"El numero 5 aparece: \", cuenta, \" veces\")"
   ]
  },
  {
   "cell_type": "markdown",
   "metadata": {},
   "source": [
    "##### len()\n",
    "Devuelve la dimensión o tamaño de una lista o tupla, en otros idiomas de programación es conocido como size pero solo devuelve el largo de la lista pricipal."
   ]
  },
  {
   "cell_type": "code",
   "execution_count": 15,
   "metadata": {},
   "outputs": [
    {
     "data": {
      "text/plain": [
       "4"
      ]
     },
     "execution_count": 15,
     "metadata": {},
     "output_type": "execute_result"
    }
   ],
   "source": [
    "Lista = [\"cosas\" , 5 , \"tamanio\", \"perro\"]\n",
    "\n",
    "len(Lista)"
   ]
  },
  {
   "cell_type": "code",
   "execution_count": 16,
   "metadata": {},
   "outputs": [
    {
     "data": {
      "text/plain": [
       "3"
      ]
     },
     "execution_count": 16,
     "metadata": {},
     "output_type": "execute_result"
    }
   ],
   "source": [
    "Matriz = [[5, 2, 6], [9, 8, 3], [7, 4, 1]]\n",
    "\n",
    "len(Matriz)"
   ]
  },
  {
   "cell_type": "code",
   "execution_count": 17,
   "metadata": {},
   "outputs": [
    {
     "data": {
      "text/plain": [
       "4"
      ]
     },
     "execution_count": 17,
     "metadata": {},
     "output_type": "execute_result"
    }
   ],
   "source": [
    "Tupla = (\"cosas\" , 5 , \"tamanio\", \"perro\")\n",
    "\n",
    "len(Tupla)"
   ]
  },
  {
   "cell_type": "markdown",
   "metadata": {},
   "source": [
    "# Exploracion\n",
    "Lo interesante de las Listas y las Tuplas es la capacidad de moverse a travez de ellas para poder mostrar sus datos. \n",
    "Ya para este punto hemos dejado en claro que tanto como a la lista como a las tuplas les da igual el tipo de dato con el que estemos trabajando por lo que a partir de ahora salvo casos particulares voy a ejemplificar con enteros por simplificar."
   ]
  },
  {
   "cell_type": "code",
   "execution_count": 18,
   "metadata": {},
   "outputs": [
    {
     "name": "stdout",
     "output_type": "stream",
     "text": [
      "Todos los valores:  [5, 8, 6, 8, 5, 4, 2, 6, 5, 8, 9, 6, 5, 4, 5, 6, 8, 1, 2, 3, 1, 8, 9, 5, 2, 4, 3]\n",
      "Primeros 5 valores:  [5, 8, 6, 8, 5]\n",
      "A partir del 8vo valor:  [5, 8, 9, 6, 5, 4, 5, 6, 8, 1, 2, 3, 1, 8, 9, 5, 2, 4, 3]\n",
      "Antepenultimo:  2\n",
      "Todos hasta el penultimo valor:  [5, 8, 6, 8, 5, 4, 2, 6, 5, 8, 9, 6, 5, 4, 5, 6, 8, 1, 2, 3, 1, 8, 9, 5, 2]\n",
      "Entre el 5to y el 9no:  [4, 2, 6, 5]\n",
      "Ordenada al reves:  [3, 4, 2, 5, 9, 8, 1, 3, 2, 1, 8, 6, 5, 4, 5, 6, 9, 8, 5, 6, 2, 4, 5, 8, 6, 8, 5]\n"
     ]
    }
   ],
   "source": [
    "ListaNumeros = [5,8,6,8,5,4,2,6,5,8,9,6,5,4,5,6,8,1,2,3,1,8,9,5,2,4,3]\n",
    "\n",
    "print(\"Todos los valores: \", ListaNumeros)\n",
    "print(\"Primeros 5 valores: \", ListaNumeros[:5])\n",
    "print(\"A partir del 8vo valor: \", ListaNumeros[8:])\n",
    "print(\"Antepenultimo: \", ListaNumeros[-3])\n",
    "print(\"Todos hasta el penultimo valor: \", ListaNumeros[:-2])\n",
    "print(\"Entre el 5to y el 9no: \", ListaNumeros[5:9])\n",
    "print(\"Ordenada al reves: \", ListaNumeros[::-1])"
   ]
  },
  {
   "cell_type": "code",
   "execution_count": 19,
   "metadata": {},
   "outputs": [
    {
     "name": "stdout",
     "output_type": "stream",
     "text": [
      "Todos los valores:  (5, 8, 6, 8, 5, 4, 2, 6, 5, 8, 9, 6, 5, 4, 5, 6, 8, 1, 2, 3, 1, 8, 9, 5, 2, 4, 3)\n",
      "Primeros 5 valores:  (5, 8, 6, 8, 5)\n",
      "A partir del 8vo valor:  (5, 8, 9, 6, 5, 4, 5, 6, 8, 1, 2, 3, 1, 8, 9, 5, 2, 4, 3)\n",
      "Antepenultimo:  2\n",
      "Todos hasta el penultimo valor:  (5, 8, 6, 8, 5, 4, 2, 6, 5, 8, 9, 6, 5, 4, 5, 6, 8, 1, 2, 3, 1, 8, 9, 5, 2)\n",
      "Entre el 5to y el 9no:  (4, 2, 6, 5)\n",
      "Ordenada al reves:  (3, 4, 2, 5, 9, 8, 1, 3, 2, 1, 8, 6, 5, 4, 5, 6, 9, 8, 5, 6, 2, 4, 5, 8, 6, 8, 5)\n"
     ]
    }
   ],
   "source": [
    "TuplaNumeros = (5,8,6,8,5,4,2,6,5,8,9,6,5,4,5,6,8,1,2,3,1,8,9,5,2,4,3)\n",
    "\n",
    "print(\"Todos los valores: \", TuplaNumeros)\n",
    "print(\"Primeros 5 valores: \", TuplaNumeros[:5])\n",
    "print(\"A partir del 8vo valor: \", TuplaNumeros[8:])\n",
    "print(\"Antepenultimo: \", TuplaNumeros[-3])\n",
    "print(\"Todos hasta el penultimo valor: \", TuplaNumeros[:-2])\n",
    "print(\"Entre el 5to y el 9no: \", TuplaNumeros[5:9])\n",
    "print(\"Ordenada al reves: \", TuplaNumeros[::-1])"
   ]
  },
  {
   "cell_type": "markdown",
   "metadata": {},
   "source": [
    "# Transformaacion"
   ]
  },
  {
   "cell_type": "markdown",
   "metadata": {},
   "source": [
    "#### list()\n",
    "Muchas veces la vida nos da tuplas cuando necesitamos listas, por suerte Python tiene una solucion elagante para esta clase de problemas."
   ]
  },
  {
   "cell_type": "code",
   "execution_count": 20,
   "metadata": {},
   "outputs": [
    {
     "name": "stdout",
     "output_type": "stream",
     "text": [
      "Tupla_Persona es:  <class 'tuple'>\n",
      "Lista_Persona es:  <class 'list'>\n"
     ]
    }
   ],
   "source": [
    "Tupla_Persona = (\"Ramiro\", \"13\", \"octubre\", \"1987\", \"70kg\")\n",
    "print('Tupla_Persona es: ', type(Tupla_Persona))\n",
    "\n",
    "Lista_Persona = list(Tupla_Persona)\n",
    "\n",
    "print('Lista_Persona es: ', type(Lista_Persona))"
   ]
  },
  {
   "cell_type": "code",
   "execution_count": 21,
   "metadata": {},
   "outputs": [
    {
     "data": {
      "text/plain": [
       "[0, 1, 2, 3, 4, 5, 6, 7, 8, 9]"
      ]
     },
     "execution_count": 21,
     "metadata": {},
     "output_type": "execute_result"
    }
   ],
   "source": [
    "lista = list(range(10))\n",
    "lista"
   ]
  },
  {
   "cell_type": "markdown",
   "metadata": {},
   "source": [
    "#### tuple()\n",
    "Para el caso particular en el que trabajamos con una lista y queremos que a partir de ese punto nadie pueda cambiar los datos que alli se alojan."
   ]
  },
  {
   "cell_type": "code",
   "execution_count": 22,
   "metadata": {},
   "outputs": [
    {
     "name": "stdout",
     "output_type": "stream",
     "text": [
      "Cualquier_Dato es:  <class 'list'>\n",
      "Dato _fijo es:  <class 'tuple'>\n"
     ]
    }
   ],
   "source": [
    "Cualquier_Dato = [\"perro\", 23, 1.5, (3, 5), [56, 'casa']]\n",
    "print('Cualquier_Dato es: ', type(Cualquier_Dato))\n",
    "\n",
    "Dato_fijo = tuple(Cualquier_Dato)\n",
    "\n",
    "print('Dato _fijo es: ', type(Dato_fijo))"
   ]
  },
  {
   "cell_type": "code",
   "execution_count": 23,
   "metadata": {},
   "outputs": [
    {
     "data": {
      "text/plain": [
       "(0, 1, 2, 3, 4, 5, 6, 7, 8, 9)"
      ]
     },
     "execution_count": 23,
     "metadata": {},
     "output_type": "execute_result"
    }
   ],
   "source": [
    "tupla = tuple(range(10))\n",
    "tupla"
   ]
  },
  {
   "cell_type": "markdown",
   "metadata": {},
   "source": [
    "Sin embargo si hay una lista dentro de la tupla, esta podra ser modificada. (En caso de no decearlo debera de ser convertida en tupla por separado)"
   ]
  },
  {
   "cell_type": "code",
   "execution_count": 24,
   "metadata": {},
   "outputs": [
    {
     "name": "stdout",
     "output_type": "stream",
     "text": [
      "('perro', 23, 1.5, (3, 5), [56, 'casa'])\n",
      "('perro', 23, 1.5, (3, 5), ['casa'])\n"
     ]
    }
   ],
   "source": [
    "print(Dato_fijo)\n",
    "\n",
    "Dato_fijo[4].pop(0) # Se vera mas adelante en la seccion \"Decrementar Lista\"\n",
    "\n",
    "print(Dato_fijo)"
   ]
  },
  {
   "cell_type": "markdown",
   "metadata": {},
   "source": [
    "#### zip()\n",
    "La función zip() devuelve una lista de tuplas, donde cada tupla contiene el elemento i-th desde cada una de los tipos de secuencias de argumento. La lista devuelta es truncada en longitud a la longitud de la secuencia de argumentos más corta."
   ]
  },
  {
   "cell_type": "code",
   "execution_count": 25,
   "metadata": {},
   "outputs": [
    {
     "name": "stdout",
     "output_type": "stream",
     "text": [
      "[('naranjas', 2.7), ('peras', 2.13), ('manzanas', 5.1)]\n"
     ]
    }
   ],
   "source": [
    "comprimido = list(zip(['naranjas', 'peras', 'manzanas'], [2.7, 2.13, 5.1]))\n",
    "print(comprimido)"
   ]
  },
  {
   "cell_type": "markdown",
   "metadata": {},
   "source": [
    "#### dict() y dict(zip([lista1],[lista2]))\n",
    "La función dict() es el constructor del tipo de diccionario, esta función se usa crear un diccionario:"
   ]
  },
  {
   "cell_type": "code",
   "execution_count": 26,
   "metadata": {},
   "outputs": [
    {
     "data": {
      "text/plain": [
       "{'naranjas': 2.7, 'peras': 2.13, 'manzanas': 5.1}"
      ]
     },
     "execution_count": 26,
     "metadata": {},
     "output_type": "execute_result"
    }
   ],
   "source": [
    "dict(naranjas=2.7, peras=2.13, manzanas=5.1)"
   ]
  },
  {
   "cell_type": "code",
   "execution_count": 27,
   "metadata": {},
   "outputs": [
    {
     "data": {
      "text/plain": [
       "{'naranjas': 2.7, 'peras': 2.13, 'manzanas': 5.1}"
      ]
     },
     "execution_count": 27,
     "metadata": {},
     "output_type": "execute_result"
    }
   ],
   "source": [
    "dict(zip(['naranjas', 'peras', 'manzanas'], [2.7, 2.13, 5.1]))"
   ]
  },
  {
   "cell_type": "markdown",
   "metadata": {},
   "source": [
    "#### set()\n",
    "La función set() es el constructor del tipo de conjuntos, se usa crear un conjunto mutable mediante la misma función set() de un objeto iterable lista:"
   ]
  },
  {
   "cell_type": "code",
   "execution_count": 28,
   "metadata": {},
   "outputs": [
    {
     "name": "stdout",
     "output_type": "stream",
     "text": [
      "[6, 2.1, 2.5, 3.6, 4, 5, 6, 4, 2.5] <class 'list'>\n",
      "{2.1, 3.6, 2.5, 4, 6, 5} <class 'set'>\n"
     ]
    }
   ],
   "source": [
    "versiones = [6, 2.1, 2.5, 3.6, 4, 5, 6, 4, 2.5]\n",
    "print (versiones, type(versiones))\n",
    "\n",
    "versiones_plone = set(versiones)\n",
    "print (versiones_plone, type(versiones_plone))"
   ]
  },
  {
   "cell_type": "markdown",
   "metadata": {},
   "source": [
    "#### frozenset()\n",
    "La función frozenset() es el constructor del tipo de <b>\"conjunto\"</b>, se usa crear un conjunto inmutable mediante la misma función frozenset() de un objeto iterable lista:"
   ]
  },
  {
   "cell_type": "code",
   "execution_count": 29,
   "metadata": {},
   "outputs": [
    {
     "name": "stdout",
     "output_type": "stream",
     "text": [
      "[6, 2.1, 2.5, 3.6, 4, 5, 6, 4, 2.5] <class 'list'>\n",
      "frozenset({2.1, 3.6, 2.5, 4, 6, 5}) <class 'frozenset'>\n"
     ]
    }
   ],
   "source": [
    "versiones = [6, 2.1, 2.5, 3.6, 4, 5, 6, 4, 2.5]\n",
    "print (versiones, type(versiones))\n",
    "\n",
    "versiones_plone = frozenset(versiones)\n",
    "print (versiones_plone, type(versiones_plone))"
   ]
  },
  {
   "cell_type": "markdown",
   "metadata": {},
   "source": [
    "## Incrementar lista"
   ]
  },
  {
   "cell_type": "markdown",
   "metadata": {},
   "source": [
    "#### append()\n",
    "Toma la lista y le agrega un valor en el ultimo elemento."
   ]
  },
  {
   "cell_type": "code",
   "execution_count": 30,
   "metadata": {},
   "outputs": [
    {
     "name": "stdout",
     "output_type": "stream",
     "text": [
      "['uno', 'dos', 'tres', 'cuatro']\n"
     ]
    }
   ],
   "source": [
    "lista = ['uno', 'dos', 'tres']\n",
    "\n",
    "lista.append('cuatro')\n",
    "\n",
    "print(lista)"
   ]
  },
  {
   "cell_type": "markdown",
   "metadata": {},
   "source": [
    "Otra forma de hacer esto es:"
   ]
  },
  {
   "cell_type": "code",
   "execution_count": 31,
   "metadata": {},
   "outputs": [
    {
     "name": "stdout",
     "output_type": "stream",
     "text": [
      "['uno', 'dos', 'tres', 'cuatro']\n",
      "['uno', 'dos', 'tres', 'cuatro', 'cinco']\n"
     ]
    }
   ],
   "source": [
    "print(lista)\n",
    "\n",
    "lista = lista + ['cinco']\n",
    "\n",
    "print(lista)"
   ]
  },
  {
   "cell_type": "markdown",
   "metadata": {},
   "source": [
    "#### extend()\n",
    "Si debemos de ampliar la lista con otra lista, la forma mas simple es asi."
   ]
  },
  {
   "cell_type": "code",
   "execution_count": 32,
   "metadata": {},
   "outputs": [
    {
     "name": "stdout",
     "output_type": "stream",
     "text": [
      "['a', 'b', 'c', 1, 2, 3]\n",
      "[1, 2, 3]\n",
      "None\n"
     ]
    }
   ],
   "source": [
    "lista1 = [\"a\", 'b', 'c']\n",
    "lista2 = [1,2,3]\n",
    "\n",
    "lista3=lista1.extend(lista2)\n",
    "\n",
    "print(lista1) # Por estas cosas hay que hacer una copia antes de extenderla si queremos una lista aparte.\n",
    "print(lista2)\n",
    "print(lista3)"
   ]
  },
  {
   "cell_type": "markdown",
   "metadata": {},
   "source": [
    "Otra forma de hacer esto es:"
   ]
  },
  {
   "cell_type": "code",
   "execution_count": 33,
   "metadata": {},
   "outputs": [
    {
     "name": "stdout",
     "output_type": "stream",
     "text": [
      "['a', 'b', 'c']\n",
      "[1, 2, 3]\n",
      "['a', 'b', 'c', 1, 2, 3]\n"
     ]
    }
   ],
   "source": [
    "lista1 = [\"a\", 'b', 'c']\n",
    "lista2 = [1,2,3]\n",
    "\n",
    "lista3 = lista1 + lista2\n",
    "\n",
    "print(lista1) \n",
    "print(lista2)\n",
    "print(lista3)"
   ]
  },
  {
   "cell_type": "markdown",
   "metadata": {},
   "source": [
    "#### insert(lugar, dato)\n",
    "Existen momentos en que necesitamos agregar un valor en una posición interna de la lista, no modificar una posición, sino agregar otro dato. Para eso existe Insert()."
   ]
  },
  {
   "cell_type": "code",
   "execution_count": 34,
   "metadata": {},
   "outputs": [
    {
     "name": "stdout",
     "output_type": "stream",
     "text": [
      "[1, 2, 3, 'numero', 4, 5, 6, 7, 8, 9]\n"
     ]
    }
   ],
   "source": [
    "lista = [1,2,3,4,5,6,7,8,9]\n",
    "\n",
    "lista.insert(3,\"numero\")\n",
    "\n",
    "print(lista)"
   ]
  },
  {
   "cell_type": "markdown",
   "metadata": {},
   "source": [
    "Sin embargo, esto no funciona con más de un dato a la vez. De colocar una lista lo toma como un dato."
   ]
  },
  {
   "cell_type": "code",
   "execution_count": 35,
   "metadata": {},
   "outputs": [
    {
     "name": "stdout",
     "output_type": "stream",
     "text": [
      "[1, 2, 3, ['numero1', 'numero2'], 4, 5, 6, 7, 8, 9]\n"
     ]
    }
   ],
   "source": [
    "lista = [1,2,3,4,5,6,7,8,9]\n",
    "\n",
    "lista.insert(3,[\"numero1\",'numero2'])\n",
    "\n",
    "print(lista)"
   ]
  },
  {
   "cell_type": "markdown",
   "metadata": {},
   "source": [
    "## Decrementar lista"
   ]
  },
  {
   "cell_type": "markdown",
   "metadata": {},
   "source": [
    "#### pop()\n",
    "Elimina el ultimo elemento de la lista acortando la lista."
   ]
  },
  {
   "cell_type": "code",
   "execution_count": 36,
   "metadata": {},
   "outputs": [
    {
     "name": "stdout",
     "output_type": "stream",
     "text": [
      "['lunes', 'martes', 'miercoles', 'jueves', 'viernes', 'sabado']\n"
     ]
    }
   ],
   "source": [
    "Semana = ['lunes','martes','miercoles','jueves','viernes','sabado','domingo']\n",
    "\n",
    "Semana.pop()\n",
    "\n",
    "print(Semana)"
   ]
  },
  {
   "cell_type": "markdown",
   "metadata": {},
   "source": [
    "#### remove()\n",
    "Cuando sabes lo que queres eliminar pero no sabes o no te importa donde se encuentra."
   ]
  },
  {
   "cell_type": "code",
   "execution_count": 37,
   "metadata": {},
   "outputs": [
    {
     "name": "stdout",
     "output_type": "stream",
     "text": [
      "['lunes', 'martes', 'jueves', 'viernes', 'sabado', 'domingo']\n"
     ]
    }
   ],
   "source": [
    "Semana = ['lunes','martes','miercoles','jueves','viernes','sabado','domingo']\n",
    "\n",
    "Semana.remove('miercoles')\n",
    "\n",
    "print(Semana)"
   ]
  },
  {
   "cell_type": "markdown",
   "metadata": {},
   "source": [
    "#### del\n",
    "Para eliminar la lista por completo"
   ]
  },
  {
   "cell_type": "code",
   "execution_count": 38,
   "metadata": {},
   "outputs": [],
   "source": [
    "Semana = ['lunes','martes','miercoles','jueves','viernes','sabado','domingo']\n",
    "\n",
    "del Semana\n",
    "# La lista \"Semana\" ya no existe mas. Util para cualquier variable"
   ]
  },
  {
   "cell_type": "markdown",
   "metadata": {},
   "source": [
    "Si queremos eliminar los elementos, pero no la lista."
   ]
  },
  {
   "cell_type": "code",
   "execution_count": 39,
   "metadata": {},
   "outputs": [
    {
     "name": "stdout",
     "output_type": "stream",
     "text": [
      "[]\n"
     ]
    }
   ],
   "source": [
    "Semana = ['lunes','martes','miercoles','jueves','viernes','sabado','domingo']\n",
    "\n",
    "Semana = []\n",
    "\n",
    "print(Semana)"
   ]
  },
  {
   "cell_type": "markdown",
   "metadata": {},
   "source": [
    "## Ordenar Lista\n",
    "Estos ordenes se basan en general en ordenamiento numerico o alfabetico."
   ]
  },
  {
   "cell_type": "markdown",
   "metadata": {},
   "source": [
    "#### sort()\n",
    "Ordena de menor a mayor los valores de la lista. Sin embargo debo agregar que solo ordena si los valores son todos numericos o todos str"
   ]
  },
  {
   "cell_type": "code",
   "execution_count": 40,
   "metadata": {
    "scrolled": true
   },
   "outputs": [
    {
     "name": "stdout",
     "output_type": "stream",
     "text": [
      "['13', '32', '54', 'A', 'a', 'dato 2', 'dato 5']\n"
     ]
    }
   ],
   "source": [
    "Lista = ['54', '32', '13', 'A', 'a', 'dato 5', 'dato 2']\n",
    "\n",
    "Lista.sort()\n",
    "\n",
    "print(Lista)"
   ]
  },
  {
   "cell_type": "code",
   "execution_count": 41,
   "metadata": {},
   "outputs": [
    {
     "name": "stdout",
     "output_type": "stream",
     "text": [
      "[2, 54, 65, 321, 354, 489, 654, 846, 8488]\n"
     ]
    }
   ],
   "source": [
    "Numeros = [65,489,354,846,321,54,654,8488,2]\n",
    "\n",
    "Numeros.sort()\n",
    "\n",
    "print(Numeros)"
   ]
  },
  {
   "cell_type": "markdown",
   "metadata": {},
   "source": [
    "#### sort(reverse = True)\n",
    "Si bien estamos hablando de la misma función este modo nos permite ordenar de mayor a menor."
   ]
  },
  {
   "cell_type": "code",
   "execution_count": 42,
   "metadata": {
    "scrolled": true
   },
   "outputs": [
    {
     "name": "stdout",
     "output_type": "stream",
     "text": [
      "['dato 5', 'dato 2', 'a', 'A', '54', '32', '13']\n"
     ]
    }
   ],
   "source": [
    "Lista = ['54', '32', '13', 'A', 'a', 'dato 5', 'dato 2']\n",
    "\n",
    "Lista.sort(reverse = True)\n",
    "\n",
    "print(Lista)"
   ]
  },
  {
   "cell_type": "code",
   "execution_count": 43,
   "metadata": {},
   "outputs": [
    {
     "name": "stdout",
     "output_type": "stream",
     "text": [
      "[8488, 846, 654, 489, 354, 321, 65, 54, 2]\n"
     ]
    }
   ],
   "source": [
    "Numeros = [65,489,354,846,321,54,654,8488,2]\n",
    "\n",
    "Numeros.sort(reverse = True)\n",
    "\n",
    "print(Numeros)"
   ]
  },
  {
   "cell_type": "markdown",
   "metadata": {},
   "source": [
    "#### sorted()\n",
    "Para evitarnos la necesidad de copiar la lista antes de modificar el orden de la misma, se creo la función sorted()\n",
    "\n",
    "Tiene dos argumentos opcionales que deben especificarse como argumentos de palabra clave.\n",
    "\n",
    "Key especifica una función de un argumento que se usa para extraer una clave de comparación de cada elemento en iterable (por ejemplo, key = str.lower). El valor predeterminado es Ninguno (compare los elementos directamente).\n",
    "\n",
    "Reverse es un valor booleano. Si se establece en Verdadero, los elementos de la lista se ordenan como si se invirtiera cada comparación.\n",
    "\n",
    "Utilice functools.cmp_to_key () para convertir una función cmp de estilo antiguo en una función clave.\n",
    "\n",
    "Se garantiza que la función ordenada () incorporada es estable. Una clasificación es estable si garantiza que no se cambiará el orden relativo de los elementos que se comparan iguales; esto es útil para clasificar en varias pasadas (por ejemplo, ordenar por departamento y luego por grado salarial)."
   ]
  },
  {
   "cell_type": "code",
   "execution_count": 44,
   "metadata": {},
   "outputs": [
    {
     "name": "stdout",
     "output_type": "stream",
     "text": [
      "[2, 54, 65, 321, 354, 489, 654, 846, 8488]\n",
      "[8488, 846, 654, 489, 354, 321, 65, 54, 2]\n"
     ]
    }
   ],
   "source": [
    "Desordenados = [65,489,354,846,321,54,654,8488,2]\n",
    "\n",
    "Menor_Mayor = sorted(Desordenados)\n",
    "Mayor_Menor = sorted(Desordenados, reverse = True)\n",
    "\n",
    "print(Menor_Mayor)\n",
    "print(Mayor_Menor)\n"
   ]
  },
  {
   "cell_type": "markdown",
   "metadata": {},
   "source": [
    "Faltan funciones:\n",
    "    https://docs.python.org/3/library/functions.html#sorted"
   ]
  },
  {
   "cell_type": "markdown",
   "metadata": {},
   "source": [
    "#### reverse()\n",
    "Este método invierte el orden de los elementos de una lista en la que ya se encuentran."
   ]
  },
  {
   "cell_type": "code",
   "execution_count": 45,
   "metadata": {},
   "outputs": [
    {
     "name": "stdout",
     "output_type": "stream",
     "text": [
      "[9, 2.5, 8, 4, 5, 6]\n",
      "[6, 5, 4, 8, 2.5, 9]\n"
     ]
    }
   ],
   "source": [
    "versiones_plone = [9, 2.5, 8, 4, 5, 6]\n",
    "print (versiones_plone)\n",
    "\n",
    "versiones_plone.reverse()\n",
    "print (versiones_plone)"
   ]
  },
  {
   "cell_type": "markdown",
   "metadata": {},
   "source": [
    "# Funciones para listas\n",
    "Como ya hemos mencionado anteriormente, una lista se diferencia de una tupla en que la lista se puede modificar, pero no solo eso, puede ser ampliada, reducida y ordenada. En esta parte vamos a ver algunas de las funciones mas utilizadas para esos fines."
   ]
  },
  {
   "cell_type": "markdown",
   "metadata": {},
   "source": [
    "#### Cambiar el valor de un item de la lista."
   ]
  },
  {
   "cell_type": "code",
   "execution_count": 46,
   "metadata": {},
   "outputs": [
    {
     "name": "stdout",
     "output_type": "stream",
     "text": [
      "[1, 2, 3, 4, 5, 100, 7, 8, 9]\n"
     ]
    }
   ],
   "source": [
    "lista = [1,2,3,4,5,6,7,8,9]\n",
    "\n",
    "lista[5] = 100 # Ordenada de 0 a 8\n",
    "\n",
    "print(lista)"
   ]
  },
  {
   "cell_type": "code",
   "execution_count": 47,
   "metadata": {},
   "outputs": [
    {
     "name": "stdout",
     "output_type": "stream",
     "text": [
      "[8, 2, 3, 4, 5, 6, 7, 8, 9]\n"
     ]
    }
   ],
   "source": [
    "lista = [1,2,3,4,5,6,7,8,9]\n",
    "\n",
    "lista[0] = lista[-2] # Ordenada de 0 a 8\n",
    "\n",
    "print(lista)"
   ]
  },
  {
   "cell_type": "markdown",
   "metadata": {},
   "source": [
    "# Funciones de secuencia"
   ]
  },
  {
   "cell_type": "markdown",
   "metadata": {},
   "source": [
    "#### all()\n",
    "La función all() toma un contenedor como un argumento. Esta devuelve las funciones integradas True si todo los valores en el objeto iterable python tienen un valor de tipo booleano igual a True. Un valor vacío tiene un tipo booleano igual a False."
   ]
  },
  {
   "cell_type": "code",
   "execution_count": 48,
   "metadata": {},
   "outputs": [
    {
     "data": {
      "text/plain": [
       "True"
      ]
     },
     "execution_count": 48,
     "metadata": {},
     "output_type": "execute_result"
    }
   ],
   "source": [
    "all(['HOLA MUNDO','cualquier cosa','123'])"
   ]
  },
  {
   "cell_type": "code",
   "execution_count": 49,
   "metadata": {},
   "outputs": [
    {
     "data": {
      "text/plain": [
       "False"
      ]
     },
     "execution_count": 49,
     "metadata": {},
     "output_type": "execute_result"
    }
   ],
   "source": [
    "all(['HOLA MUNDO','cualquier cosa',''])"
   ]
  },
  {
   "cell_type": "code",
   "execution_count": 50,
   "metadata": {},
   "outputs": [
    {
     "data": {
      "text/plain": [
       "True"
      ]
     },
     "execution_count": 50,
     "metadata": {},
     "output_type": "execute_result"
    }
   ],
   "source": [
    "all([True, True])"
   ]
  },
  {
   "cell_type": "code",
   "execution_count": 51,
   "metadata": {},
   "outputs": [
    {
     "data": {
      "text/plain": [
       "False"
      ]
     },
     "execution_count": 51,
     "metadata": {},
     "output_type": "execute_result"
    }
   ],
   "source": [
    "all([True,True,False])"
   ]
  },
  {
   "cell_type": "markdown",
   "metadata": {},
   "source": [
    "#### any()\n",
    "La función any() ese toma un argumento y devuelve True incluso si, un valor en el objeto iterable tiene un valor de tipo booleano igual a True."
   ]
  },
  {
   "cell_type": "code",
   "execution_count": 52,
   "metadata": {},
   "outputs": [
    {
     "data": {
      "text/plain": [
       "True"
      ]
     },
     "execution_count": 52,
     "metadata": {},
     "output_type": "execute_result"
    }
   ],
   "source": [
    "any((1,0,0))"
   ]
  },
  {
   "cell_type": "code",
   "execution_count": 53,
   "metadata": {},
   "outputs": [
    {
     "data": {
      "text/plain": [
       "False"
      ]
     },
     "execution_count": 53,
     "metadata": {},
     "output_type": "execute_result"
    }
   ],
   "source": [
    "any((0,0,0))"
   ]
  },
  {
   "cell_type": "code",
   "execution_count": 54,
   "metadata": {},
   "outputs": [
    {
     "data": {
      "text/plain": [
       "True"
      ]
     },
     "execution_count": 54,
     "metadata": {},
     "output_type": "execute_result"
    }
   ],
   "source": [
    "any(range(5))"
   ]
  },
  {
   "cell_type": "code",
   "execution_count": 55,
   "metadata": {},
   "outputs": [
    {
     "data": {
      "text/plain": [
       "True"
      ]
     },
     "execution_count": 55,
     "metadata": {},
     "output_type": "execute_result"
    }
   ],
   "source": [
    "any([True, False])"
   ]
  },
  {
   "cell_type": "code",
   "execution_count": 56,
   "metadata": {},
   "outputs": [
    {
     "data": {
      "text/plain": [
       "False"
      ]
     },
     "execution_count": 56,
     "metadata": {},
     "output_type": "execute_result"
    }
   ],
   "source": [
    "any([False, False])"
   ]
  },
  {
   "cell_type": "markdown",
   "metadata": {},
   "source": [
    "#### iter()\n",
    "La función iter() obtiene un iterador de un objeto. En la primera forma, el argumento debe proporcionar su propio iterador, o ser una secuencia.\n",
    "#### next()\n",
    "La función next() devuelve el próximo elemento desde un iterador."
   ]
  },
  {
   "cell_type": "code",
   "execution_count": 57,
   "metadata": {},
   "outputs": [
    {
     "data": {
      "text/plain": [
       "'C'"
      ]
     },
     "execution_count": 57,
     "metadata": {},
     "output_type": "execute_result"
    }
   ],
   "source": [
    "elemento = iter(\"Casa\")\n",
    "elemento\n",
    "next(elemento)"
   ]
  },
  {
   "cell_type": "code",
   "execution_count": 58,
   "metadata": {},
   "outputs": [
    {
     "data": {
      "text/plain": [
       "'a'"
      ]
     },
     "execution_count": 58,
     "metadata": {},
     "output_type": "execute_result"
    }
   ],
   "source": [
    "next(elemento)"
   ]
  },
  {
   "cell_type": "code",
   "execution_count": 59,
   "metadata": {},
   "outputs": [
    {
     "data": {
      "text/plain": [
       "'s'"
      ]
     },
     "execution_count": 59,
     "metadata": {},
     "output_type": "execute_result"
    }
   ],
   "source": [
    "next(elemento)"
   ]
  },
  {
   "cell_type": "code",
   "execution_count": 60,
   "metadata": {},
   "outputs": [
    {
     "data": {
      "text/plain": [
       "'a'"
      ]
     },
     "execution_count": 60,
     "metadata": {},
     "output_type": "execute_result"
    }
   ],
   "source": [
    "next(elemento)"
   ]
  }
 ],
 "metadata": {
  "kernelspec": {
   "display_name": "Python 3",
   "language": "python",
   "name": "python3"
  },
  "language_info": {
   "codemirror_mode": {
    "name": "ipython",
    "version": 3
   },
   "file_extension": ".py",
   "mimetype": "text/x-python",
   "name": "python",
   "nbconvert_exporter": "python",
   "pygments_lexer": "ipython3",
   "version": "3.8.3"
  }
 },
 "nbformat": 4,
 "nbformat_minor": 4
}
